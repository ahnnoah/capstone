{
  "nbformat": 4,
  "nbformat_minor": 0,
  "metadata": {
    "colab": {
      "name": "4_영화평.ipynb",
      "provenance": [],
      "collapsed_sections": [],
      "include_colab_link": true
    },
    "kernelspec": {
      "name": "python3",
      "display_name": "Python 3"
    },
    "language_info": {
      "name": "python"
    },
    "accelerator": "GPU"
  },
  "cells": [
    {
      "cell_type": "markdown",
      "metadata": {
        "id": "view-in-github",
        "colab_type": "text"
      },
      "source": [
        "<a href=\"https://colab.research.google.com/github/ahnnoah/study/blob/main/Colab/2022/4_%EC%98%81%ED%99%94%ED%8F%89.ipynb\" target=\"_parent\"><img src=\"https://colab.research.google.com/assets/colab-badge.svg\" alt=\"Open In Colab\"/></a>"
      ]
    },
    {
      "cell_type": "markdown",
      "source": [
        "RNN으로 영화평 감성 분석하기\n",
        "안노아"
      ],
      "metadata": {
        "id": "B6UikfRvWGX-"
      }
    },
    {
      "cell_type": "code",
      "execution_count": null,
      "metadata": {
        "id": "JdZrxCEmV-Pp"
      },
      "outputs": [],
      "source": [
        "# 1번 셀\n",
        "\n",
        "# 패키지 수입\n",
        "import numpy as np\n",
        "from keras.datasets import imdb\n",
        "from keras.preprocessing.sequence import pad_sequences\n",
        "from time import time\n",
        "\n",
        "from keras.models import Sequential\n",
        "from keras.layers import Embedding, LSTM, Dense\n",
        "from sklearn.metrics import confusion_matrix, f1_score\n"
      ]
    },
    {
      "cell_type": "code",
      "source": [
        "# 2번 셀\n",
        "\n",
        "# 하이퍼 파라미터 설정\n",
        "MY_WORDS = 5000          # 사전 안에 단어 수 (사용 빈도수로 sorting)\n",
        "MY_LEN = 200             # 영화평 통일된 길이\n",
        "MY_EMBED = 32            # 임베딩 차원\n",
        "MY_HIDDEN = 64           # LSTM의 차원\n",
        "\n",
        "MY_EPOCH = 10            # 반복 학습 수\n",
        "MY_BATCH = 200           # 한번에 처리하는 데이터 수"
      ],
      "metadata": {
        "id": "qVGIgn5bW-Ip"
      },
      "execution_count": null,
      "outputs": []
    },
    {
      "cell_type": "code",
      "source": [
        "# 3번 셀\n",
        "\n",
        "# 데이터 불러오기\n",
        "(X_train, Y_train), (X_test, Y_test) = imdb.load_data(num_words=MY_WORDS)\n",
        "\n",
        "# 샘플 출력\n",
        "# IMDB의 영화평은 token 처리 되어 있음\n",
        "# 감성: 0은 부정, 1은 긍정\n",
        "print('학습용 데이터 0번 영화평:', X_train[0]) \n",
        "print('학습용 데이터 0번 감성:', Y_train[0]) \n",
        "\n",
        "# 데이터 모양 확인\n",
        "print('학습용 입력 데이터:', X_train.shape)\n",
        "print('학습용 출력 데이터:', Y_train.shape)\n",
        "print('평가용 입력 데이터:', X_test.shape)\n",
        "print('평가용 출력 데이터:', Y_test.shape)\n"
      ],
      "metadata": {
        "colab": {
          "base_uri": "https://localhost:8080/"
        },
        "id": "lhhpoMzXYfFy",
        "outputId": "6e1dc186-cabf-41c4-f83e-b3e787d36ec5"
      },
      "execution_count": null,
      "outputs": [
        {
          "output_type": "stream",
          "name": "stdout",
          "text": [
            "학습용 데이터 0번 영화평: [1, 14, 22, 16, 43, 530, 973, 1622, 1385, 65, 458, 4468, 66, 3941, 4, 173, 36, 256, 5, 25, 100, 43, 838, 112, 50, 670, 2, 9, 35, 480, 284, 5, 150, 4, 172, 112, 167, 2, 336, 385, 39, 4, 172, 4536, 1111, 17, 546, 38, 13, 447, 4, 192, 50, 16, 6, 147, 2025, 19, 14, 22, 4, 1920, 4613, 469, 4, 22, 71, 87, 12, 16, 43, 530, 38, 76, 15, 13, 1247, 4, 22, 17, 515, 17, 12, 16, 626, 18, 2, 5, 62, 386, 12, 8, 316, 8, 106, 5, 4, 2223, 2, 16, 480, 66, 3785, 33, 4, 130, 12, 16, 38, 619, 5, 25, 124, 51, 36, 135, 48, 25, 1415, 33, 6, 22, 12, 215, 28, 77, 52, 5, 14, 407, 16, 82, 2, 8, 4, 107, 117, 2, 15, 256, 4, 2, 7, 3766, 5, 723, 36, 71, 43, 530, 476, 26, 400, 317, 46, 7, 4, 2, 1029, 13, 104, 88, 4, 381, 15, 297, 98, 32, 2071, 56, 26, 141, 6, 194, 2, 18, 4, 226, 22, 21, 134, 476, 26, 480, 5, 144, 30, 2, 18, 51, 36, 28, 224, 92, 25, 104, 4, 226, 65, 16, 38, 1334, 88, 12, 16, 283, 5, 16, 4472, 113, 103, 32, 15, 16, 2, 19, 178, 32]\n",
            "학습용 데이터 0번 감성: 1\n",
            "학습용 입력 데이터: (25000,)\n",
            "학습용 출력 데이터: (25000,)\n",
            "평가용 입력 데이터: (25000,)\n",
            "평가용 출력 데이터: (25000,)\n"
          ]
        }
      ]
    },
    {
      "cell_type": "code",
      "source": [
        "# 4번 셀\n",
        "\n",
        "# 단어를 정수로 전환하기\n",
        "word_to_id = imdb.get_word_index()\n",
        "print('the의 token:', word_to_id['the'])\n",
        "print('virus의 token:', word_to_id['virus'])\n",
        "\n",
        "# 정수를 단어로 전환하기\n",
        "id_to_word = {}\n",
        "for word, id in word_to_id.items():\n",
        "    id_to_word[id] = word\n",
        "\n",
        "print('token 1의 단어:', id_to_word[1])\n",
        "print('token 2의 단어:', id_to_word[2])\n",
        "print('token 3310의 단어:', id_to_word[3310])\n"
      ],
      "metadata": {
        "colab": {
          "base_uri": "https://localhost:8080/"
        },
        "id": "TymiB4IxfNz3",
        "outputId": "aff95b14-a898-49e4-f557-fca0fefac235"
      },
      "execution_count": null,
      "outputs": [
        {
          "output_type": "stream",
          "name": "stdout",
          "text": [
            "the의 token: 1\n",
            "virus의 token: 3310\n",
            "token 1의 단어: the\n",
            "token 2의 단어: and\n",
            "token 3310의 단어: virus\n"
          ]
        }
      ]
    },
    {
      "cell_type": "code",
      "source": [
        "# 5번 셀\n",
        "\n",
        "# 영화평 단어로 전환\n",
        "# 영화평에 특수 문자 3개 추가되어 있음\n",
        "# 0: 패딩\n",
        "# 1: 영화평 시작\n",
        "# 2: 삭제 단어\n",
        "def decode(review):\n",
        "    output = []\n",
        "\n",
        "    for i in review:\n",
        "        word = id_to_word.get(i - 3, '???')\n",
        "        output.append(word)\n",
        "    print(output)\n",
        "\n",
        "decode(X_train[333])\n"
      ],
      "metadata": {
        "colab": {
          "base_uri": "https://localhost:8080/"
        },
        "id": "zqobFztehimS",
        "outputId": "bdd4d64a-b2a7-4d20-f9dd-81881cdce284"
      },
      "execution_count": null,
      "outputs": [
        {
          "output_type": "stream",
          "name": "stdout",
          "text": [
            "['???', 'with', 'title', 'like', 'this', 'you', 'know', 'you', 'get', 'pretty', 'much', 'lot', 'of', 'junk', 'acting', 'bad', 'script', 'bad', 'director', 'bad', '???', 'bad', 'br', 'br', 'movie', 'make', 'lot', 'of', 'noise', 'that', 'really', 'not', 'music', 'and', 'lot', 'of', 'people', '???', 'movie', 'make', 'bad', 'racial', 'stereotype', 'why', 'come', 'every', 'movie', 'with', 'black', 'hero', 'have', 'drug', '???', 'why', 'come', 'hero', 'always', 'have', 'to', 'dance', 'to', 'be', 'success', 'why', 'come', 'famous', '???', 'always', 'have', 'to', 'be', 'in', 'dance', 'movie', 'why', 'come', 'letter', 's', \"can't\", 'be', 'in', 'title', 'br', 'br', 'hollywood', 'need', 'to', 'stop', 'dumb', 'down', 'audience', 'and', 'make', 'movie', 'that', 'have', 'people', 'with', 'brain', 'who', 'know', 'how', 'speak', 'proper', 'english', 'br', 'br', 'do', 'self', 'favor', 'and', 'not', 'go', 'see']\n"
          ]
        }
      ]
    },
    {
      "cell_type": "code",
      "source": [
        "# 6번 셀\n",
        "\n",
        "# 영화평 길이 통일\n",
        "for i in range(10):\n",
        "    print('영화평:', i, '길이:', len(X_train[i]))\n",
        "\n",
        "X_train = pad_sequences(X_train,\n",
        "                        truncating='pre',\n",
        "                        padding='pre',\n",
        "                        maxlen=MY_LEN)\n",
        "\n",
        "for i in range(10):\n",
        "    print('영화평:', i, '길이:', len(X_train[i]))\n",
        "\n",
        "X_test = pad_sequences(X_test,\n",
        "                        truncating='pre',\n",
        "                        padding='pre',\n",
        "                        maxlen=MY_LEN)    \n"
      ],
      "metadata": {
        "colab": {
          "base_uri": "https://localhost:8080/"
        },
        "id": "T3XkORe9k_ke",
        "outputId": "93290dc2-cb36-476c-a789-3d6d097afe54"
      },
      "execution_count": null,
      "outputs": [
        {
          "output_type": "stream",
          "name": "stdout",
          "text": [
            "영화평: 0 길이: 218\n",
            "영화평: 1 길이: 189\n",
            "영화평: 2 길이: 141\n",
            "영화평: 3 길이: 550\n",
            "영화평: 4 길이: 147\n",
            "영화평: 5 길이: 43\n",
            "영화평: 6 길이: 123\n",
            "영화평: 7 길이: 562\n",
            "영화평: 8 길이: 233\n",
            "영화평: 9 길이: 130\n",
            "영화평: 0 길이: 200\n",
            "영화평: 1 길이: 200\n",
            "영화평: 2 길이: 200\n",
            "영화평: 3 길이: 200\n",
            "영화평: 4 길이: 200\n",
            "영화평: 5 길이: 200\n",
            "영화평: 6 길이: 200\n",
            "영화평: 7 길이: 200\n",
            "영화평: 8 길이: 200\n",
            "영화평: 9 길이: 200\n"
          ]
        }
      ]
    },
    {
      "cell_type": "code",
      "source": [
        "# 7번 셀\n",
        "\n",
        "# 데이터 모양 확인\n",
        "print('학습용 입력 데이터:', X_train.shape)\n",
        "print('학습용 출력 데이터:', Y_train.shape)\n",
        "print('평가용 입력 데이터:', X_test.shape)\n",
        "print('평가용 출력 데이터:', Y_test.shape)\n"
      ],
      "metadata": {
        "colab": {
          "base_uri": "https://localhost:8080/"
        },
        "id": "yWEtmVDXnE_I",
        "outputId": "c2e60f48-4609-4bd8-b084-9a1704f4a1aa"
      },
      "execution_count": null,
      "outputs": [
        {
          "output_type": "stream",
          "name": "stdout",
          "text": [
            "학습용 입력 데이터: (25000, 200)\n",
            "학습용 출력 데이터: (25000,)\n",
            "평가용 입력 데이터: (25000, 200)\n",
            "평가용 출력 데이터: (25000,)\n"
          ]
        }
      ]
    },
    {
      "cell_type": "code",
      "source": [
        "# 8번 셀\n",
        "\n",
        "# RNN 구현\n",
        "model = Sequential()\n",
        "\n",
        "# 임베딩 층 추가\n",
        "model.add(Embedding(input_dim=MY_WORDS,\n",
        "                    output_dim=MY_EMBED,\n",
        "                    input_length=MY_LEN))\n",
        "\n",
        "# LSTM 추가\n",
        "model.add(LSTM(units=MY_HIDDEN))\n",
        "\n",
        "# 출력층\n",
        "model.add(Dense(units=1,\n",
        "                activation='sigmoid'))\n",
        "\n",
        "# RNN 요약\n",
        "model.summary()"
      ],
      "metadata": {
        "colab": {
          "base_uri": "https://localhost:8080/"
        },
        "id": "SKDK5BSPwJFN",
        "outputId": "4e04cb62-0872-4793-d851-342f8172cbab"
      },
      "execution_count": null,
      "outputs": [
        {
          "output_type": "stream",
          "name": "stdout",
          "text": [
            "Model: \"sequential\"\n",
            "_________________________________________________________________\n",
            " Layer (type)                Output Shape              Param #   \n",
            "=================================================================\n",
            " embedding (Embedding)       (None, 200, 32)           160000    \n",
            "                                                                 \n",
            " lstm (LSTM)                 (None, 64)                24832     \n",
            "                                                                 \n",
            " dense (Dense)               (None, 1)                 65        \n",
            "                                                                 \n",
            "=================================================================\n",
            "Total params: 184,897\n",
            "Trainable params: 184,897\n",
            "Non-trainable params: 0\n",
            "_________________________________________________________________\n"
          ]
        }
      ]
    },
    {
      "cell_type": "code",
      "source": [
        "# 9번 셀\n",
        "\n",
        "# RNN 학습\n",
        "model.compile(optimizer='adam',\n",
        "              loss='binary_crossentropy',\n",
        "              metrics=['acc'])\n",
        "\n",
        "print('학습 시작')\n",
        "begin = time()\n",
        "\n",
        "model.fit(X_train,\n",
        "          Y_train,\n",
        "          epochs=MY_EPOCH,\n",
        "          batch_size=MY_BATCH,\n",
        "          verbose=1)\n",
        "\n",
        "end = time()\n",
        "print('총 학습 시간:', end - begin)"
      ],
      "metadata": {
        "colab": {
          "base_uri": "https://localhost:8080/"
        },
        "id": "vpC6eDiMxxq4",
        "outputId": "91d10e19-b779-4bd7-b013-cea5596c03a8"
      },
      "execution_count": null,
      "outputs": [
        {
          "output_type": "stream",
          "name": "stdout",
          "text": [
            "학습 시작\n",
            "Epoch 1/10\n",
            "125/125 [==============================] - 4s 14ms/step - loss: 0.4959 - acc: 0.7420\n",
            "Epoch 2/10\n",
            "125/125 [==============================] - 2s 14ms/step - loss: 0.2726 - acc: 0.8904\n",
            "Epoch 3/10\n",
            "125/125 [==============================] - 2s 14ms/step - loss: 0.2278 - acc: 0.9114\n",
            "Epoch 4/10\n",
            "125/125 [==============================] - 2s 14ms/step - loss: 0.1967 - acc: 0.9258\n",
            "Epoch 5/10\n",
            "125/125 [==============================] - 2s 14ms/step - loss: 0.1758 - acc: 0.9327\n",
            "Epoch 6/10\n",
            "125/125 [==============================] - 2s 14ms/step - loss: 0.1602 - acc: 0.9408\n",
            "Epoch 7/10\n",
            "125/125 [==============================] - 2s 14ms/step - loss: 0.1391 - acc: 0.9482\n",
            "Epoch 8/10\n",
            "125/125 [==============================] - 2s 14ms/step - loss: 0.1270 - acc: 0.9538\n",
            "Epoch 9/10\n",
            "125/125 [==============================] - 2s 14ms/step - loss: 0.1093 - acc: 0.9611\n",
            "Epoch 10/10\n",
            "125/125 [==============================] - 2s 14ms/step - loss: 0.0987 - acc: 0.9654\n",
            "총 학습 시간: 19.467148780822754\n"
          ]
        }
      ]
    },
    {
      "cell_type": "code",
      "source": [
        "# 10번 셀\n",
        "\n",
        "# RNN 평가하기\n",
        "score = model.evaluate(X_test,\n",
        "                       Y_test)\n",
        "\n",
        "print('최종 정확도:', score[1])\n"
      ],
      "metadata": {
        "colab": {
          "base_uri": "https://localhost:8080/"
        },
        "id": "5cqPh2Q2y3r4",
        "outputId": "48d42ce1-e13d-45f9-bd1d-ed0b0a03c65d"
      },
      "execution_count": null,
      "outputs": [
        {
          "output_type": "stream",
          "name": "stdout",
          "text": [
            "782/782 [==============================] - 4s 5ms/step - loss: 0.4605 - acc: 0.8590\n",
            "최종 정확도: 0.859000027179718\n"
          ]
        }
      ]
    },
    {
      "cell_type": "code",
      "source": [
        "# 11번 셀\n",
        "\n",
        "# RNN으로 예측\n",
        "pred = model.predict(X_test)\n",
        "\n",
        "# 평가용 데이터 샘플 예측\n",
        "print('영화평:', decode(X_test[0]))\n",
        "print('정답:', Y_test[0])\n",
        "print('예측:', pred[0])\n"
      ],
      "metadata": {
        "colab": {
          "base_uri": "https://localhost:8080/"
        },
        "id": "FI9h-6ia2Scu",
        "outputId": "47d5ca4e-e768-4172-cda8-b7ddb614f435"
      },
      "execution_count": null,
      "outputs": [
        {
          "output_type": "stream",
          "name": "stdout",
          "text": [
            "['???', '???', '???', '???', '???', '???', '???', '???', '???', '???', '???', '???', '???', '???', '???', '???', '???', '???', '???', '???', '???', '???', '???', '???', '???', '???', '???', '???', '???', '???', '???', '???', '???', '???', '???', '???', '???', '???', '???', '???', '???', '???', '???', '???', '???', '???', '???', '???', '???', '???', '???', '???', '???', '???', '???', '???', '???', '???', '???', '???', '???', '???', '???', '???', '???', '???', '???', '???', '???', '???', '???', '???', '???', '???', '???', '???', '???', '???', '???', '???', '???', '???', '???', '???', '???', '???', '???', '???', '???', '???', '???', '???', '???', '???', '???', '???', '???', '???', '???', '???', '???', '???', '???', '???', '???', '???', '???', '???', '???', '???', '???', '???', '???', '???', '???', '???', '???', '???', '???', '???', '???', '???', '???', '???', '???', '???', '???', '???', '???', '???', '???', '???', '???', 'please', 'give', 'this', 'one', 'a', 'miss', 'br', 'br', '???', '???', 'and', 'the', 'rest', 'of', 'the', 'cast', '???', 'terrible', 'performances', 'the', 'show', 'is', 'flat', 'flat', 'flat', 'br', 'br', 'i', \"don't\", 'know', 'how', 'michael', '???', 'could', 'have', 'allowed', 'this', 'one', 'on', 'his', '???', 'he', 'almost', 'seemed', 'to', 'know', 'this', \"wasn't\", 'going', 'to', 'work', 'out', 'and', 'his', 'performance', 'was', 'quite', '???', 'so', 'all', 'you', '???', 'fans', 'give', 'this', 'a', 'miss']\n",
            "영화평: None\n",
            "정답: 0\n",
            "예측: [0.04734186]\n"
          ]
        }
      ]
    },
    {
      "cell_type": "code",
      "source": [
        "# 12번 셀\n",
        "\n",
        "# 확률 결과를 이진수로 전환\n",
        "print(pred)\n",
        "pred = (pred > 0.5)\n",
        "print(pred)\n",
        "\n",
        "# 혼동 행렬\n",
        "print(confusion_matrix(Y_test,\n",
        "                       pred))\n",
        "\n",
        "# F1 점수\n",
        "print(f1_score(Y_test,\n",
        "               pred,\n",
        "               average='micro'))\n"
      ],
      "metadata": {
        "colab": {
          "base_uri": "https://localhost:8080/"
        },
        "id": "6v3BdfZb8Bpd",
        "outputId": "ea9a3087-84ae-491a-c900-782f8e1550b0"
      },
      "execution_count": null,
      "outputs": [
        {
          "output_type": "stream",
          "name": "stdout",
          "text": [
            "[[False]\n",
            " [ True]\n",
            " [ True]\n",
            " ...\n",
            " [False]\n",
            " [False]\n",
            " [False]]\n",
            "[[False]\n",
            " [ True]\n",
            " [ True]\n",
            " ...\n",
            " [False]\n",
            " [False]\n",
            " [False]]\n",
            "[[10794  1706]\n",
            " [ 1819 10681]]\n",
            "0.859\n"
          ]
        }
      ]
    }
  ]
}