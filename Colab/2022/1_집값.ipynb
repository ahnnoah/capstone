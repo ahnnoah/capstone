{
  "nbformat": 4,
  "nbformat_minor": 0,
  "metadata": {
    "colab": {
      "name": "1_집값.ipynb",
      "provenance": [],
      "collapsed_sections": [],
      "include_colab_link": true
    },
    "kernelspec": {
      "name": "python3",
      "display_name": "Python 3"
    },
    "language_info": {
      "name": "python"
    }
  },
  "cells": [
    {
      "cell_type": "markdown",
      "metadata": {
        "id": "view-in-github",
        "colab_type": "text"
      },
      "source": [
        "<a href=\"https://colab.research.google.com/github/ahnnoah/study/blob/main/Colab/2022/1_%EC%A7%91%EA%B0%92.ipynb\" target=\"_parent\"><img src=\"https://colab.research.google.com/assets/colab-badge.svg\" alt=\"Open In Colab\"/></a>"
      ]
    },
    {
      "cell_type": "markdown",
      "source": [
        "DNN으로 집값 예측하기\n",
        "2022년 1월 5일\n",
        "임성규"
      ],
      "metadata": {
        "id": "QhVMkELH2N2D"
      }
    },
    {
      "cell_type": "code",
      "execution_count": null,
      "metadata": {
        "colab": {
          "base_uri": "https://localhost:8080/"
        },
        "id": "PPSugAir0fTq",
        "outputId": "8f42d538-a44c-48cb-e9f4-ae3bbf678658"
      },
      "outputs": [
        {
          "output_type": "stream",
          "name": "stdout",
          "text": [
            "hello world\n"
          ]
        }
      ],
      "source": [
        "# 1번 셀\n",
        "\n",
        "print('hello world')\n",
        "\n",
        "# 패키지 수입\n",
        "import pandas as pd\n",
        "import matplotlib.pyplot as plt\n",
        "import seaborn as sns\n",
        "\n",
        "from time import time\n",
        "from keras.models import Sequential\n",
        "from keras.layers import Dense\n",
        "\n",
        "from sklearn.preprocessing import StandardScaler\n",
        "from sklearn.model_selection import train_test_split"
      ]
    },
    {
      "cell_type": "code",
      "source": [
        "# 2번 셀\n",
        "\n",
        "# 하이퍼 파라미터 지정\n",
        "MY_HIDDEN = 1000         # 은닉층 뉴런 수\n",
        "MY_EPOCH = 10            # 반복 학습 수\n",
        "\n",
        "# 판다스 테이블 출력 시 생략하는 컬럼을 방지하는 옵션\n",
        "#pd.set_option('display.max_columns', None)\n"
      ],
      "metadata": {
        "id": "fQQm6IRx8mOd"
      },
      "execution_count": null,
      "outputs": []
    },
    {
      "cell_type": "code",
      "source": [
        "# 3번 셀\n",
        "\n",
        "# 데이터 파일 읽기\n",
        "data = pd.read_csv('/content/drive/MyDrive/my-data/housing.csv')\n",
        "\n",
        "# 데이터 샘플 출력\n",
        "print(data.head(5))\n",
        "print(data.tail(5))\n",
        "\n",
        "# 데이터 통계 출력\n",
        "print(data.describe())\n"
      ],
      "metadata": {
        "colab": {
          "base_uri": "https://localhost:8080/"
        },
        "id": "YwNhbN82-fYA",
        "outputId": "5535e14a-5387-4075-92ad-497b53a72bdf"
      },
      "execution_count": null,
      "outputs": [
        {
          "output_type": "stream",
          "name": "stdout",
          "text": [
            "      CRIM    ZN  INDUS  CHAS    NOX  ...  RAD  TAX  PTRATIO  LSTAT  MEDV\n",
            "0  0.00632  18.0   2.31     0  0.538  ...    1  296     15.3   4.98  24.0\n",
            "1  0.02731   0.0   7.07     0  0.469  ...    2  242     17.8   9.14  21.6\n",
            "2  0.02729   0.0   7.07     0  0.469  ...    2  242     17.8   4.03  34.7\n",
            "3  0.03237   0.0   2.18     0  0.458  ...    3  222     18.7   2.94  33.4\n",
            "4  0.06905   0.0   2.18     0  0.458  ...    3  222     18.7   5.33  36.2\n",
            "\n",
            "[5 rows x 13 columns]\n",
            "        CRIM   ZN  INDUS  CHAS    NOX  ...  RAD  TAX  PTRATIO  LSTAT  MEDV\n",
            "501  0.06263  0.0  11.93     0  0.573  ...    1  273     21.0   9.67  22.4\n",
            "502  0.04527  0.0  11.93     0  0.573  ...    1  273     21.0   9.08  20.6\n",
            "503  0.06076  0.0  11.93     0  0.573  ...    1  273     21.0   5.64  23.9\n",
            "504  0.10959  0.0  11.93     0  0.573  ...    1  273     21.0   6.48  22.0\n",
            "505  0.04741  0.0  11.93     0  0.573  ...    1  273     21.0   7.88  11.9\n",
            "\n",
            "[5 rows x 13 columns]\n",
            "             CRIM          ZN       INDUS  ...     PTRATIO       LSTAT        MEDV\n",
            "count  506.000000  506.000000  506.000000  ...  506.000000  506.000000  506.000000\n",
            "mean     3.613524   11.363636   11.136779  ...   18.455534   12.653063   22.532806\n",
            "std      8.601545   23.322453    6.860353  ...    2.164946    7.141062    9.197104\n",
            "min      0.006320    0.000000    0.460000  ...   12.600000    1.730000    5.000000\n",
            "25%      0.082045    0.000000    5.190000  ...   17.400000    6.950000   17.025000\n",
            "50%      0.256510    0.000000    9.690000  ...   19.050000   11.360000   21.200000\n",
            "75%      3.677082   12.500000   18.100000  ...   20.200000   16.955000   25.000000\n",
            "max     88.976200  100.000000   27.740000  ...   22.000000   37.970000   50.000000\n",
            "\n",
            "[8 rows x 13 columns]\n"
          ]
        }
      ]
    },
    {
      "cell_type": "code",
      "source": [
        "# 4번 셀\n",
        "\n",
        "# 상자 그림\n",
        "plt.figure(figsize=(15, 8))\n",
        "sns.boxplot(data=data, palette='dark')\n"
      ],
      "metadata": {
        "colab": {
          "base_uri": "https://localhost:8080/",
          "height": 480
        },
        "id": "WrhNTiEfDbi8",
        "outputId": "9572fa3b-b61f-4510-d65c-c885eab5ca3c"
      },
      "execution_count": null,
      "outputs": [
        {
          "output_type": "execute_result",
          "data": {
            "text/plain": [
              "<matplotlib.axes._subplots.AxesSubplot at 0x7f6bb2147f10>"
            ]
          },
          "metadata": {},
          "execution_count": 4
        },
        {
          "output_type": "display_data",
          "data": {
            "image/png": "[encoded data removed]",
            "text/plain": [
              "<Figure size 1080x576 with 1 Axes>"
            ]
          },
          "metadata": {
            "needs_background": "light"
          }
        }
      ]
    },
    {
      "cell_type": "code",
      "source": [
        "# 5번 셀\n",
        "\n",
        "# 데이터 정규화 \n",
        "# z-점수 정규화는 그 결과를 numpy로 전환함\n",
        "scaler = StandardScaler()\n",
        "z_data = scaler.fit_transform(data)\n",
        "\n",
        "# z-데이터를 numpy에서 pandas로 전환\n",
        "print('전환 전:', type(z_data))\n",
        "z_data = pd.DataFrame(z_data)\n",
        "print('전환 후:', type(z_data))\n",
        "print(z_data.head(5))\n",
        "\n",
        "# z-점수 정규화 후 통계 출력\n",
        "print(z_data.describe())\n",
        "\n",
        "# 상자 그림\n",
        "plt.figure(figsize=(15, 8))\n",
        "sns.boxplot(data=z_data, palette='dark')"
      ],
      "metadata": {
        "colab": {
          "base_uri": "https://localhost:8080/",
          "height": 857
        },
        "id": "8OiyRMF9FunG",
        "outputId": "a808d56d-12a6-43c1-fb5d-16591c6c8e12"
      },
      "execution_count": null,
      "outputs": [
        {
          "output_type": "stream",
          "name": "stdout",
          "text": [
            "전환 전: <class 'numpy.ndarray'>\n",
            "전환 후: <class 'pandas.core.frame.DataFrame'>\n",
            "         0         1         2   ...        10        11        12\n",
            "0 -0.419782  0.284830 -1.287909  ... -1.459000 -1.075562  0.159686\n",
            "1 -0.417339 -0.487722 -0.593381  ... -0.303094 -0.492439 -0.101524\n",
            "2 -0.417342 -0.487722 -0.593381  ... -0.303094 -1.208727  1.324247\n",
            "3 -0.416750 -0.487722 -1.306878  ...  0.113032 -1.361517  1.182758\n",
            "4 -0.412482 -0.487722 -1.306878  ...  0.113032 -1.026501  1.487503\n",
            "\n",
            "[5 rows x 13 columns]\n",
            "                 0             1   ...            11            12\n",
            "count  5.060000e+02  5.060000e+02  ...  5.060000e+02  5.060000e+02\n",
            "mean  -8.688702e-17  3.306534e-16  ... -1.595123e-16 -4.247810e-16\n",
            "std    1.000990e+00  1.000990e+00  ...  1.000990e+00  1.000990e+00\n",
            "min   -4.197819e-01 -4.877224e-01  ... -1.531127e+00 -1.908226e+00\n",
            "25%   -4.109696e-01 -4.877224e-01  ... -7.994200e-01 -5.994557e-01\n",
            "50%   -3.906665e-01 -4.877224e-01  ... -1.812536e-01 -1.450593e-01\n",
            "75%    7.396560e-03  4.877224e-02  ...  6.030188e-01  2.685231e-01\n",
            "max    9.933931e+00  3.804234e+00  ...  3.548771e+00  2.989460e+00\n",
            "\n",
            "[8 rows x 13 columns]\n"
          ]
        },
        {
          "output_type": "execute_result",
          "data": {
            "text/plain": [
              "<matplotlib.axes._subplots.AxesSubplot at 0x7f6bb1f87d10>"
            ]
          },
          "metadata": {},
          "execution_count": 5
        },
        {
          "output_type": "display_data",
          "data": {
            "image/png": "[encoded data removed]",
            "text/plain": [
              "<Figure size 1080x576 with 1 Axes>"
            ]
          },
          "metadata": {
            "needs_background": "light"
          }
        }
      ]
    },
    {
      "cell_type": "code",
      "source": [
        "# 6번 셀\n",
        "\n",
        "# 데이터을 입력과 출력으로 분할\n",
        "X_data = z_data.drop(12, axis=1)\n",
        "#print(X_data)\n",
        "Y_data = z_data[12]\n",
        "#print(Y_data)\n",
        "\n",
        "# 데이터를 학습용과 평가용으로 분할\n",
        "# 순서 중요\n",
        "X_train, X_test, Y_train, Y_test = train_test_split(X_data,\n",
        "                                                    Y_data,\n",
        "                                                    train_size=0.7)\n",
        "\n",
        "# 데이터 모양 출력\n",
        "print('학습용 입력 모양:', X_train.shape)\n",
        "print('평가용 입력 모양:', X_test.shape)\n",
        "print('학습용 출력 모양:', Y_train.shape)\n",
        "print('평가용 출력 모양:', Y_test.shape)\n",
        "\n"
      ],
      "metadata": {
        "colab": {
          "base_uri": "https://localhost:8080/"
        },
        "id": "hwubaFP8rd20",
        "outputId": "7aef216e-fab0-45b8-b1d3-b940b5d9cd7a"
      },
      "execution_count": null,
      "outputs": [
        {
          "output_type": "stream",
          "name": "stdout",
          "text": [
            "학습용 입력 모양: (354, 12)\n",
            "평가용 입력 모양: (152, 12)\n",
            "학습용 출력 모양: (354,)\n",
            "평가용 출력 모양: (152,)\n"
          ]
        }
      ]
    },
    {
      "cell_type": "code",
      "source": [
        "# 7번 셀\n",
        "\n",
        "# 인공 신경망 구현\n",
        "# Sequential 방식: 입력부터 출력으로 한층 한층 추가하는 방식\n",
        "model = Sequential()\n",
        "\n",
        "# 입력층 + 은닉층1 동시에 추가\n",
        "model.add(Dense(units=MY_HIDDEN,\n",
        "                input_dim=12,\n",
        "                activation='relu'))\n",
        "\n",
        "# 은닉층 2 추가\n",
        "model.add(Dense(units=MY_HIDDEN,\n",
        "                activation='relu'))\n",
        "\n",
        "# 출력층 추가\n",
        "model.add(Dense(units=1))\n",
        "\n",
        "# DNN (deep neural network) 요약\n",
        "model.summary()\n"
      ],
      "metadata": {
        "colab": {
          "base_uri": "https://localhost:8080/"
        },
        "id": "9WaHGtzoxL4F",
        "outputId": "ae055c66-f969-4605-a52d-4eea234628e4"
      },
      "execution_count": null,
      "outputs": [
        {
          "output_type": "stream",
          "name": "stdout",
          "text": [
            "Model: \"sequential\"\n",
            "_________________________________________________________________\n",
            " Layer (type)                Output Shape              Param #   \n",
            "=================================================================\n",
            " dense (Dense)               (None, 1000)              13000     \n",
            "                                                                 \n",
            " dense_1 (Dense)             (None, 1000)              1001000   \n",
            "                                                                 \n",
            " dense_2 (Dense)             (None, 1)                 1001      \n",
            "                                                                 \n",
            "=================================================================\n",
            "Total params: 1,015,001\n",
            "Trainable params: 1,015,001\n",
            "Non-trainable params: 0\n",
            "_________________________________________________________________\n"
          ]
        }
      ]
    },
    {
      "cell_type": "code",
      "source": [
        "# 8번 셀\n",
        "\n",
        "# DNN 학습\n",
        "# 학습 환경 설정\n",
        "model.compile(optimizer='sgd',\n",
        "              loss='mse')\n",
        "\n",
        "# 학습 진행\n",
        "print('학습 시작')\n",
        "begin = time()\n",
        "\n",
        "model.fit(X_train,\n",
        "          Y_train,\n",
        "          epochs=MY_EPOCH,\n",
        "          verbose=1)\n",
        "\n",
        "end = time()\n",
        "print('총 학습 시간:', end - begin)"
      ],
      "metadata": {
        "colab": {
          "base_uri": "https://localhost:8080/"
        },
        "id": "zNWCvNRpBGpe",
        "outputId": "bb0256aa-fca1-42dd-d86c-ef799d9975fb"
      },
      "execution_count": null,
      "outputs": [
        {
          "output_type": "stream",
          "name": "stdout",
          "text": [
            "학습 시작\n",
            "Epoch 1/10\n",
            "12/12 [==============================] - 1s 14ms/step - loss: 0.7191\n",
            "Epoch 2/10\n",
            "12/12 [==============================] - 0s 13ms/step - loss: 0.4234\n",
            "Epoch 3/10\n",
            "12/12 [==============================] - 0s 13ms/step - loss: 0.3111\n",
            "Epoch 4/10\n",
            "12/12 [==============================] - 0s 14ms/step - loss: 0.2504\n",
            "Epoch 5/10\n",
            "12/12 [==============================] - 0s 13ms/step - loss: 0.2117\n",
            "Epoch 6/10\n",
            "12/12 [==============================] - 0s 13ms/step - loss: 0.1733\n",
            "Epoch 7/10\n",
            "12/12 [==============================] - 0s 13ms/step - loss: 0.1637\n",
            "Epoch 8/10\n",
            "12/12 [==============================] - 0s 13ms/step - loss: 0.1482\n",
            "Epoch 9/10\n",
            "12/12 [==============================] - 0s 13ms/step - loss: 0.1414\n",
            "Epoch 10/10\n",
            "12/12 [==============================] - 0s 14ms/step - loss: 0.1331\n",
            "총 학습 시간: 2.207249641418457\n"
          ]
        }
      ]
    },
    {
      "cell_type": "code",
      "source": [
        "# 9번 셀\n",
        "\n",
        "# DNN 평가\n",
        "score = model.evaluate(X_test,\n",
        "                       Y_test)\n",
        "\n",
        "print('최종 MSE 손실값:', score)\n"
      ],
      "metadata": {
        "colab": {
          "base_uri": "https://localhost:8080/"
        },
        "id": "SKSAlacXDCqv",
        "outputId": "412ccc9c-a048-4993-9c5a-32caf180b264"
      },
      "execution_count": null,
      "outputs": [
        {
          "output_type": "stream",
          "name": "stdout",
          "text": [
            "5/5 [==============================] - 0s 8ms/step - loss: 0.3119\n",
            "최종 MSE 손실값: 0.3118773400783539\n"
          ]
        }
      ]
    },
    {
      "cell_type": "code",
      "source": [
        "# 10번 셀\n",
        "\n",
        "# DNN 예측\n",
        "pred = model.predict(X_test)\n",
        "print('첫번째 집값 예측 (Z-점수):', pred[0])\n",
        "print('첫번째 집값 정답 (Z-점수):', Y_test.iloc[0])\n"
      ],
      "metadata": {
        "colab": {
          "base_uri": "https://localhost:8080/"
        },
        "id": "P_oJ8dKQIE8g",
        "outputId": "ce769b9e-f44a-459a-d702-e3fce09fc5ee"
      },
      "execution_count": null,
      "outputs": [
        {
          "output_type": "stream",
          "name": "stdout",
          "text": [
            "첫번째 집값 예측 (Z-점수): [1.6758912]\n",
            "첫번째 집값 정답 (Z-점수): 2.3364352090873783\n"
          ]
        }
      ]
    }
  ]
}