{
  "nbformat": 4,
  "nbformat_minor": 0,
  "metadata": {
    "colab": {
      "name": "7_비트_코인.ipynb",
      "provenance": [],
      "collapsed_sections": [],
      "include_colab_link": true
    },
    "kernelspec": {
      "name": "python3",
      "display_name": "Python 3"
    },
    "language_info": {
      "name": "python"
    },
    "accelerator": "GPU"
  },
  "cells": [
    {
      "cell_type": "markdown",
      "metadata": {
        "id": "view-in-github",
        "colab_type": "text"
      },
      "source": [
        "<a href=\"https://colab.research.google.com/github/ahnnoah/study/blob/main/Colab/2022/7_%EB%B9%84%ED%8A%B8_%EC%BD%94%EC%9D%B8.ipynb\" target=\"_parent\"><img src=\"https://colab.research.google.com/assets/colab-badge.svg\" alt=\"Open In Colab\"/></a>"
      ]
    },
    {
      "cell_type": "markdown",
      "source": [
        "RNN으로 비트 코인 시세 예측하기\n",
        "안노아"
      ],
      "metadata": {
        "id": "G0K9tC9UkUnr"
      }
    },
    {
      "cell_type": "code",
      "execution_count": null,
      "metadata": {
        "id": "HBLdsfankNCT"
      },
      "outputs": [],
      "source": [
        "# 1번 셀\n",
        "\n",
        "# 패키지 수입\n",
        "import pandas as pd\n",
        "import numpy as np\n",
        "import matplotlib.pyplot as plt\n",
        "from time import time\n",
        "\n",
        "from keras.models import Sequential\n",
        "from keras.layers import LSTM, Dense\n",
        "from sklearn.preprocessing import MinMaxScaler\n"
      ]
    },
    {
      "cell_type": "code",
      "source": [
        "# 2번 셀\n",
        "\n",
        "# 하이퍼 파라미터\n",
        "MY_PAST = 5         # 과거 데이터 수\n",
        "MY_HIDDEN = 256     # LSTM 단에서 계산하는 데이터 수\n",
        "MY_EPOCH = 100\n"
      ],
      "metadata": {
        "id": "9LXtWCldlBJT"
      },
      "execution_count": null,
      "outputs": []
    },
    {
      "cell_type": "code",
      "source": [
        "# 3번 셀\n",
        "\n",
        "# 데이터 읽기\n",
        "path = '/content/drive/MyDrive/dataset/TSLA.csv'\n",
        "\n",
        "data = pd.read_csv(path,\n",
        "                   usecols=['Date', 'Close'],\n",
        "                   parse_dates=True,\n",
        "                   index_col='Date')\n",
        "\n",
        "# 샘플 출력\n",
        "print(data.head(10))\n",
        "print(data.describe())\n",
        "plt.figure(figsize=(15, 8))\n",
        "plt.plot(data)\n"
      ],
      "metadata": {
        "colab": {
          "base_uri": "https://localhost:8080/",
          "height": 852
        },
        "id": "EsZ-oGBHlThw",
        "outputId": "ee6c391e-3054-4a43-8e46-6f546d0d01b5"
      },
      "execution_count": null,
      "outputs": [
        {
          "output_type": "stream",
          "name": "stdout",
          "text": [
            "            Close\n",
            "Date             \n",
            "2010-06-29  4.778\n",
            "2010-06-30  4.766\n",
            "2010-07-01  4.392\n",
            "2010-07-02  3.840\n",
            "2010-07-06  3.222\n",
            "2010-07-07  3.160\n",
            "2010-07-08  3.492\n",
            "2010-07-09  3.480\n",
            "2010-07-12  3.410\n",
            "2010-07-13  3.628\n",
            "             Close\n",
            "count  2905.000000\n",
            "mean    125.373154\n",
            "std     230.559688\n",
            "min       3.160000\n",
            "25%      17.559999\n",
            "50%      46.153999\n",
            "75%      66.954002\n",
            "max    1229.910034\n"
          ]
        },
        {
          "output_type": "execute_result",
          "data": {
            "text/plain": [
              "[<matplotlib.lines.Line2D at 0x7f1b45587cd0>]"
            ]
          },
          "metadata": {},
          "execution_count": 3
        },
        {
          "output_type": "display_data",
          "data": {
            "image/png": "[encoded data removed]",
            "text/plain": [
              "<Figure size 1080x576 with 1 Axes>"
            ]
          },
          "metadata": {
            "needs_background": "light"
          }
        }
      ]
    },
    {
      "cell_type": "code",
      "source": [
        "# 4번 셀\n",
        "\n",
        "# 데이터 정규화\n",
        "scaler = MinMaxScaler()\n",
        "m_data = scaler.fit_transform(data)\n",
        "\n",
        "print(m_data)\n",
        "# numpy에서 pandas로 전환\n",
        "tmp = pd.DataFrame(m_data)\n",
        "print(tmp.describe())"
      ],
      "metadata": {
        "colab": {
          "base_uri": "https://localhost:8080/"
        },
        "id": "H81rz5iMpc4M",
        "outputId": "81640536-7be9-4e8c-e419-9312fb9740f1"
      },
      "execution_count": null,
      "outputs": [
        {
          "output_type": "stream",
          "name": "stdout",
          "text": [
            "[[0.00131893]\n",
            " [0.00130915]\n",
            " [0.00100428]\n",
            " ...\n",
            " [0.86532702]\n",
            " [0.83456281]\n",
            " [0.85996329]]\n",
            "                 0\n",
            "count  2905.000000\n",
            "mean      0.099624\n",
            "std       0.187943\n",
            "min       0.000000\n",
            "25%       0.011738\n",
            "50%       0.035047\n",
            "75%       0.052002\n",
            "max       1.000000\n"
          ]
        }
      ]
    },
    {
      "cell_type": "code",
      "source": [
        "# 5번 셀\n",
        "\n",
        "# 데이터 나누기\n",
        "split = []\n",
        "size = len(m_data)\n",
        "print('데이터 수:', size)\n",
        "\n",
        "for i in range(size - MY_PAST):\n",
        "    split.append(m_data[i: i + MY_PAST + 1])\n",
        "\n",
        "print(m_data.flatten())\n",
        "print(split[0])\n",
        "print(split[1])\n",
        "print('총 6개 묶음 수:', len(split))"
      ],
      "metadata": {
        "colab": {
          "base_uri": "https://localhost:8080/"
        },
        "id": "syBswizhqm8R",
        "outputId": "61f68720-4c1c-46ec-b231-b75c1d70a40e"
      },
      "execution_count": null,
      "outputs": [
        {
          "output_type": "stream",
          "name": "stdout",
          "text": [
            "데이터 수: 2905\n",
            "[0.00131893 0.00130915 0.00100428 ... 0.86532702 0.83456281 0.85996329]\n",
            "[[1.31893210e-03]\n",
            " [1.30915016e-03]\n",
            " [1.00427957e-03]\n",
            " [5.54310154e-04]\n",
            " [5.05400434e-05]\n",
            " [0.00000000e+00]]\n",
            "[[1.30915016e-03]\n",
            " [1.00427957e-03]\n",
            " [5.54310154e-04]\n",
            " [5.05400434e-05]\n",
            " [0.00000000e+00]\n",
            " [2.70633781e-04]]\n",
            "총 6개 묶음 수: 2900\n"
          ]
        }
      ]
    },
    {
      "cell_type": "code",
      "source": [
        "# 6번 셀\n",
        "\n",
        "# 데이터를 입력과 출력으로 분할\n",
        "split = np.array(split)\n",
        "X_data = split[:, 0:MY_PAST]\n",
        "#print(X_data)\n",
        "print('입력 데이터 모양:', X_data.shape)\n",
        "\n",
        "Y_data = split[:, -1]\n",
        "#print(split[0])\n",
        "#print(X_data[0])\n",
        "#print(Y_data[0])\n",
        "print('출력 데이터 모양:', Y_data.shape)"
      ],
      "metadata": {
        "colab": {
          "base_uri": "https://localhost:8080/"
        },
        "id": "I0BXbM0zr59w",
        "outputId": "1508e78a-5ac4-4b0f-cb6d-22799cfb5ba0"
      },
      "execution_count": null,
      "outputs": [
        {
          "output_type": "stream",
          "name": "stdout",
          "text": [
            "입력 데이터 모양: (2900, 5, 1)\n",
            "출력 데이터 모양: (2900, 1)\n"
          ]
        }
      ]
    },
    {
      "cell_type": "code",
      "source": [
        "# 7번 셀\n",
        "\n",
        "# 학습용 데이터만 사용\n",
        "X_train = X_data\n",
        "Y_train = Y_data\n",
        "\n",
        "# 최종 데이터 모양 확인\n",
        "print('학습용 입력 데이터:', X_train.shape)\n",
        "print('학습용 출력 데이터:', Y_train.shape)\n"
      ],
      "metadata": {
        "colab": {
          "base_uri": "https://localhost:8080/"
        },
        "id": "h9OvAxm1uBBz",
        "outputId": "6c2867dc-15be-4994-d7a0-12ec94d0d937"
      },
      "execution_count": null,
      "outputs": [
        {
          "output_type": "stream",
          "name": "stdout",
          "text": [
            "학습용 입력 데이터: (2900, 5, 1)\n",
            "학습용 출력 데이터: (2900, 1)\n"
          ]
        }
      ]
    },
    {
      "cell_type": "code",
      "source": [
        "# 8번 셀\n",
        "\n",
        "# RNN 구현\n",
        "model = Sequential()\n",
        "\n",
        "# LSTM 층\n",
        "model.add(LSTM(units=MY_HIDDEN,\n",
        "               input_shape=(MY_PAST, 1)))\n",
        "\n",
        "# 출력층\n",
        "model.add(Dense(units=1))\n",
        "\n",
        "# RNN 요약\n",
        "model.summary()\n"
      ],
      "metadata": {
        "colab": {
          "base_uri": "https://localhost:8080/"
        },
        "id": "Uxzo119tu5KP",
        "outputId": "ef0f4d30-497d-4d5c-a74b-1dd49a067801"
      },
      "execution_count": null,
      "outputs": [
        {
          "output_type": "stream",
          "name": "stdout",
          "text": [
            "Model: \"sequential\"\n",
            "_________________________________________________________________\n",
            " Layer (type)                Output Shape              Param #   \n",
            "=================================================================\n",
            " lstm (LSTM)                 (None, 256)               264192    \n",
            "                                                                 \n",
            " dense (Dense)               (None, 1)                 257       \n",
            "                                                                 \n",
            "=================================================================\n",
            "Total params: 264,449\n",
            "Trainable params: 264,449\n",
            "Non-trainable params: 0\n",
            "_________________________________________________________________\n"
          ]
        }
      ]
    },
    {
      "cell_type": "code",
      "source": [
        "# 9번 셀\n",
        "\n",
        "# RNN 학습\n",
        "model.compile(optimizer='adam',\n",
        "              loss='mse')\n",
        "\n",
        "print('학습 시작')\n",
        "begin = time()\n",
        "\n",
        "model.fit(X_train,\n",
        "          Y_train,\n",
        "          epochs=MY_EPOCH,\n",
        "          verbose=1)\n",
        "\n",
        "end = time()\n",
        "print('총 학습 시간:', end - begin)"
      ],
      "metadata": {
        "colab": {
          "base_uri": "https://localhost:8080/"
        },
        "id": "HQvZh2uSwGGT",
        "outputId": "3c9334bb-e067-4325-be5d-802d10b9f6c6"
      },
      "execution_count": null,
      "outputs": [
        {
          "output_type": "stream",
          "name": "stdout",
          "text": [
            "학습 시작\n",
            "Epoch 1/100\n",
            "91/91 [==============================] - 2s 3ms/step - loss: 0.0035\n",
            "Epoch 2/100\n",
            "91/91 [==============================] - 0s 3ms/step - loss: 2.1850e-04\n",
            "Epoch 3/100\n",
            "91/91 [==============================] - 0s 3ms/step - loss: 2.2092e-04\n",
            "Epoch 4/100\n",
            "91/91 [==============================] - 0s 3ms/step - loss: 1.9711e-04\n",
            "Epoch 5/100\n",
            "91/91 [==============================] - 0s 3ms/step - loss: 2.5804e-04\n",
            "Epoch 6/100\n",
            "91/91 [==============================] - 0s 3ms/step - loss: 1.9365e-04\n",
            "Epoch 7/100\n",
            "91/91 [==============================] - 0s 3ms/step - loss: 2.3132e-04\n",
            "Epoch 8/100\n",
            "91/91 [==============================] - 0s 3ms/step - loss: 1.9191e-04\n",
            "Epoch 9/100\n",
            "91/91 [==============================] - 0s 3ms/step - loss: 2.0156e-04\n",
            "Epoch 10/100\n",
            "91/91 [==============================] - 0s 3ms/step - loss: 1.7297e-04\n",
            "Epoch 11/100\n",
            "91/91 [==============================] - 0s 4ms/step - loss: 1.9680e-04\n",
            "Epoch 12/100\n",
            "91/91 [==============================] - 0s 3ms/step - loss: 1.7194e-04\n",
            "Epoch 13/100\n",
            "91/91 [==============================] - 0s 3ms/step - loss: 2.0134e-04\n",
            "Epoch 14/100\n",
            "91/91 [==============================] - 0s 3ms/step - loss: 1.9998e-04\n",
            "Epoch 15/100\n",
            "91/91 [==============================] - 0s 3ms/step - loss: 1.6440e-04\n",
            "Epoch 16/100\n",
            "91/91 [==============================] - 0s 3ms/step - loss: 1.5933e-04\n",
            "Epoch 17/100\n",
            "91/91 [==============================] - 0s 3ms/step - loss: 1.4685e-04\n",
            "Epoch 18/100\n",
            "91/91 [==============================] - 0s 3ms/step - loss: 1.8400e-04\n",
            "Epoch 19/100\n",
            "91/91 [==============================] - 0s 3ms/step - loss: 2.1405e-04\n",
            "Epoch 20/100\n",
            "91/91 [==============================] - 0s 3ms/step - loss: 1.5106e-04\n",
            "Epoch 21/100\n",
            "91/91 [==============================] - 0s 3ms/step - loss: 1.5055e-04\n",
            "Epoch 22/100\n",
            "91/91 [==============================] - 0s 3ms/step - loss: 1.5002e-04\n",
            "Epoch 23/100\n",
            "91/91 [==============================] - 0s 3ms/step - loss: 1.3898e-04\n",
            "Epoch 24/100\n",
            "91/91 [==============================] - 0s 3ms/step - loss: 1.4088e-04\n",
            "Epoch 25/100\n",
            "91/91 [==============================] - 0s 3ms/step - loss: 1.1882e-04\n",
            "Epoch 26/100\n",
            "91/91 [==============================] - 0s 3ms/step - loss: 1.3544e-04\n",
            "Epoch 27/100\n",
            "91/91 [==============================] - 0s 3ms/step - loss: 1.3430e-04\n",
            "Epoch 28/100\n",
            "91/91 [==============================] - 0s 3ms/step - loss: 1.3351e-04\n",
            "Epoch 29/100\n",
            "91/91 [==============================] - 0s 3ms/step - loss: 1.6618e-04\n",
            "Epoch 30/100\n",
            "91/91 [==============================] - 0s 3ms/step - loss: 1.2504e-04\n",
            "Epoch 31/100\n",
            "91/91 [==============================] - 0s 3ms/step - loss: 1.1586e-04\n",
            "Epoch 32/100\n",
            "91/91 [==============================] - 0s 4ms/step - loss: 1.3119e-04\n",
            "Epoch 33/100\n",
            "91/91 [==============================] - 0s 3ms/step - loss: 1.1324e-04\n",
            "Epoch 34/100\n",
            "91/91 [==============================] - 0s 3ms/step - loss: 1.0452e-04\n",
            "Epoch 35/100\n",
            "91/91 [==============================] - 0s 3ms/step - loss: 1.2523e-04\n",
            "Epoch 36/100\n",
            "91/91 [==============================] - 0s 3ms/step - loss: 1.0663e-04\n",
            "Epoch 37/100\n",
            "91/91 [==============================] - 0s 3ms/step - loss: 1.0300e-04\n",
            "Epoch 38/100\n",
            "91/91 [==============================] - 0s 3ms/step - loss: 9.8841e-05\n",
            "Epoch 39/100\n",
            "91/91 [==============================] - 0s 3ms/step - loss: 1.3401e-04\n",
            "Epoch 40/100\n",
            "91/91 [==============================] - 0s 3ms/step - loss: 1.2126e-04\n",
            "Epoch 41/100\n",
            "91/91 [==============================] - 0s 3ms/step - loss: 1.0405e-04\n",
            "Epoch 42/100\n",
            "91/91 [==============================] - 0s 3ms/step - loss: 1.0597e-04\n",
            "Epoch 43/100\n",
            "91/91 [==============================] - 0s 3ms/step - loss: 8.7590e-05\n",
            "Epoch 44/100\n",
            "91/91 [==============================] - 0s 3ms/step - loss: 9.3994e-05\n",
            "Epoch 45/100\n",
            "91/91 [==============================] - 0s 3ms/step - loss: 1.1287e-04\n",
            "Epoch 46/100\n",
            "91/91 [==============================] - 0s 3ms/step - loss: 9.2479e-05\n",
            "Epoch 47/100\n",
            "91/91 [==============================] - 0s 3ms/step - loss: 8.7684e-05\n",
            "Epoch 48/100\n",
            "91/91 [==============================] - 0s 3ms/step - loss: 1.0141e-04\n",
            "Epoch 49/100\n",
            "91/91 [==============================] - 0s 3ms/step - loss: 1.0601e-04\n",
            "Epoch 50/100\n",
            "91/91 [==============================] - 0s 3ms/step - loss: 8.1857e-05\n",
            "Epoch 51/100\n",
            "91/91 [==============================] - 0s 3ms/step - loss: 8.3574e-05\n",
            "Epoch 52/100\n",
            "91/91 [==============================] - 0s 3ms/step - loss: 1.0389e-04\n",
            "Epoch 53/100\n",
            "91/91 [==============================] - 0s 3ms/step - loss: 8.0648e-05\n",
            "Epoch 54/100\n",
            "91/91 [==============================] - 0s 3ms/step - loss: 8.7941e-05\n",
            "Epoch 55/100\n",
            "91/91 [==============================] - 0s 3ms/step - loss: 7.6855e-05\n",
            "Epoch 56/100\n",
            "91/91 [==============================] - 0s 3ms/step - loss: 9.0511e-05\n",
            "Epoch 57/100\n",
            "91/91 [==============================] - 0s 3ms/step - loss: 9.3274e-05\n",
            "Epoch 58/100\n",
            "91/91 [==============================] - 0s 3ms/step - loss: 8.1555e-05\n",
            "Epoch 59/100\n",
            "91/91 [==============================] - 0s 3ms/step - loss: 1.0165e-04\n",
            "Epoch 60/100\n",
            "91/91 [==============================] - 0s 3ms/step - loss: 9.3611e-05\n",
            "Epoch 61/100\n",
            "91/91 [==============================] - 0s 3ms/step - loss: 9.1823e-05\n",
            "Epoch 62/100\n",
            "91/91 [==============================] - 0s 3ms/step - loss: 8.3527e-05\n",
            "Epoch 63/100\n",
            "91/91 [==============================] - 0s 3ms/step - loss: 9.7840e-05\n",
            "Epoch 64/100\n",
            "91/91 [==============================] - 0s 3ms/step - loss: 9.9357e-05\n",
            "Epoch 65/100\n",
            "91/91 [==============================] - 0s 4ms/step - loss: 1.0198e-04\n",
            "Epoch 66/100\n",
            "91/91 [==============================] - 0s 4ms/step - loss: 8.5068e-05\n",
            "Epoch 67/100\n",
            "91/91 [==============================] - 0s 3ms/step - loss: 9.4704e-05\n",
            "Epoch 68/100\n",
            "91/91 [==============================] - 0s 3ms/step - loss: 7.7754e-05\n",
            "Epoch 69/100\n",
            "91/91 [==============================] - 0s 3ms/step - loss: 9.1866e-05\n",
            "Epoch 70/100\n",
            "91/91 [==============================] - 0s 3ms/step - loss: 8.9537e-05\n",
            "Epoch 71/100\n",
            "91/91 [==============================] - 0s 3ms/step - loss: 8.8852e-05\n",
            "Epoch 72/100\n",
            "91/91 [==============================] - 0s 3ms/step - loss: 8.0433e-05\n",
            "Epoch 73/100\n",
            "91/91 [==============================] - 0s 3ms/step - loss: 8.6173e-05\n",
            "Epoch 74/100\n",
            "91/91 [==============================] - 0s 3ms/step - loss: 9.1917e-05\n",
            "Epoch 75/100\n",
            "91/91 [==============================] - 0s 3ms/step - loss: 8.0763e-05\n",
            "Epoch 76/100\n",
            "91/91 [==============================] - 0s 3ms/step - loss: 8.0862e-05\n",
            "Epoch 77/100\n",
            "91/91 [==============================] - 0s 3ms/step - loss: 8.9043e-05\n",
            "Epoch 78/100\n",
            "91/91 [==============================] - 0s 3ms/step - loss: 8.2767e-05\n",
            "Epoch 79/100\n",
            "91/91 [==============================] - 0s 3ms/step - loss: 7.7366e-05\n",
            "Epoch 80/100\n",
            "91/91 [==============================] - 0s 3ms/step - loss: 9.0309e-05\n",
            "Epoch 81/100\n",
            "91/91 [==============================] - 0s 3ms/step - loss: 9.1368e-05\n",
            "Epoch 82/100\n",
            "91/91 [==============================] - 0s 3ms/step - loss: 8.5897e-05\n",
            "Epoch 83/100\n",
            "91/91 [==============================] - 0s 3ms/step - loss: 9.3600e-05\n",
            "Epoch 84/100\n",
            "91/91 [==============================] - 0s 3ms/step - loss: 1.0689e-04\n",
            "Epoch 85/100\n",
            "91/91 [==============================] - 0s 3ms/step - loss: 7.6557e-05\n",
            "Epoch 86/100\n",
            "91/91 [==============================] - 0s 3ms/step - loss: 9.7441e-05\n",
            "Epoch 87/100\n",
            "91/91 [==============================] - 0s 3ms/step - loss: 8.3973e-05\n",
            "Epoch 88/100\n",
            "91/91 [==============================] - 0s 3ms/step - loss: 8.6339e-05\n",
            "Epoch 89/100\n",
            "91/91 [==============================] - 0s 3ms/step - loss: 7.8052e-05\n",
            "Epoch 90/100\n",
            "91/91 [==============================] - 0s 3ms/step - loss: 9.7158e-05\n",
            "Epoch 91/100\n",
            "91/91 [==============================] - 0s 3ms/step - loss: 8.5098e-05\n",
            "Epoch 92/100\n",
            "91/91 [==============================] - 0s 3ms/step - loss: 8.8532e-05\n",
            "Epoch 93/100\n",
            "91/91 [==============================] - 0s 4ms/step - loss: 8.2335e-05\n",
            "Epoch 94/100\n",
            "91/91 [==============================] - 0s 3ms/step - loss: 8.7277e-05\n",
            "Epoch 95/100\n",
            "91/91 [==============================] - 0s 3ms/step - loss: 8.7667e-05\n",
            "Epoch 96/100\n",
            "91/91 [==============================] - 0s 3ms/step - loss: 9.0424e-05\n",
            "Epoch 97/100\n",
            "91/91 [==============================] - 0s 3ms/step - loss: 8.2928e-05\n",
            "Epoch 98/100\n",
            "91/91 [==============================] - 0s 3ms/step - loss: 8.2542e-05\n",
            "Epoch 99/100\n",
            "91/91 [==============================] - 0s 3ms/step - loss: 8.9993e-05\n",
            "Epoch 100/100\n",
            "91/91 [==============================] - 0s 3ms/step - loss: 7.9880e-05\n",
            "총 학습 시간: 42.32363820075989\n"
          ]
        }
      ]
    },
    {
      "cell_type": "code",
      "source": [
        "# 10번 셀\n",
        "\n"
      ],
      "metadata": {
        "id": "_y4lRV673pub"
      },
      "execution_count": null,
      "outputs": []
    },
    {
      "cell_type": "code",
      "source": [
        "# 11번 셀\n",
        "\n",
        "# RNN 예측\n",
        "pred = model.predict(X_train)\n",
        "pred_ori = scaler.inverse_transform(pred)\n",
        "print('RNN이 오늘 비트 코인 예측한 값:', pred_ori[-1])\n",
        "answer = scaler.inverse_transform(Y_train)\n",
        "print('오늘 비트 코인 값:', answer[-1])\n"
      ],
      "metadata": {
        "colab": {
          "base_uri": "https://localhost:8080/"
        },
        "id": "LrHncfG-6jdB",
        "outputId": "b8dfacf2-8c81-491d-a57d-6a15ec6bb820"
      },
      "execution_count": null,
      "outputs": [
        {
          "output_type": "stream",
          "name": "stdout",
          "text": [
            "RNN이 오늘 비트 코인 예측한 값: [1033.4576]\n",
            "오늘 비트 코인 값: [1058.119995]\n"
          ]
        }
      ]
    },
    {
      "cell_type": "code",
      "source": [
        "# 12번 셀\n",
        "\n",
        "# 비트 코인 내일 시세 예측\n",
        "tmp = data[-5:]\n",
        "print(tmp)\n",
        "tom = m_data[-5:]\n",
        "print(tom)\n",
        "print(tom.shape)\n",
        "\n",
        "# 인공신경망에 사용되는 데이터는 항상 배치 정보 필수\n",
        "tom = tom.reshape(1, 5, 1)\n",
        "pred = model.predict(tom)\n",
        "pred = scaler.inverse_transform(pred)\n",
        "print('RNN이 예측한 내일 비트코인 시세:', pred)\n"
      ],
      "metadata": {
        "colab": {
          "base_uri": "https://localhost:8080/"
        },
        "id": "6xUWh3y18kyt",
        "outputId": "3109ab9e-6a4a-493a-c975-9e0b0897cfa1"
      },
      "execution_count": null,
      "outputs": [
        {
          "output_type": "stream",
          "name": "stdout",
          "text": [
            "                  Close\n",
            "Date                   \n",
            "2022-01-04  1149.589966\n",
            "2022-01-05  1088.119995\n",
            "2022-01-06  1064.699951\n",
            "2022-01-07  1026.959961\n",
            "2022-01-10  1058.119995\n",
            "[[0.93452613]\n",
            " [0.88441815]\n",
            " [0.86532702]\n",
            " [0.83456281]\n",
            " [0.85996329]]\n",
            "(5, 1)\n",
            "RNN이 예측한 내일 비트코인 시세: [[1065.599]]\n"
          ]
        }
      ]
    }
  ]
}