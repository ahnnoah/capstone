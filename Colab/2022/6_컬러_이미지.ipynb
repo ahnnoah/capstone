{
  "nbformat": 4,
  "nbformat_minor": 0,
  "metadata": {
    "colab": {
      "name": "6_컬러_이미지.ipynb",
      "provenance": [],
      "collapsed_sections": [],
      "include_colab_link": true
    },
    "kernelspec": {
      "name": "python3",
      "display_name": "Python 3"
    },
    "language_info": {
      "name": "python"
    },
    "accelerator": "GPU"
  },
  "cells": [
    {
      "cell_type": "markdown",
      "metadata": {
        "id": "view-in-github",
        "colab_type": "text"
      },
      "source": [
        "<a href=\"https://colab.research.google.com/github/ahnnoah/study/blob/main/Colab/2022/6_%EC%BB%AC%EB%9F%AC_%EC%9D%B4%EB%AF%B8%EC%A7%80.ipynb\" target=\"_parent\"><img src=\"https://colab.research.google.com/assets/colab-badge.svg\" alt=\"Open In Colab\"/></a>"
      ]
    },
    {
      "cell_type": "markdown",
      "source": [
        "CNN으로 컬러 이미지 분류하기\n",
        "안노아"
      ],
      "metadata": {
        "id": "B18yEFLdEmbH"
      }
    },
    {
      "cell_type": "code",
      "execution_count": null,
      "metadata": {
        "id": "q06Xgm8MEe0d"
      },
      "outputs": [],
      "source": [
        "# 1번 셀\n",
        "\n",
        "# package 수입\n",
        "import numpy as np\n",
        "import matplotlib.pyplot as plt\n",
        "from time import time\n",
        "\n",
        "from keras.utils.np_utils import to_categorical\n",
        "from keras.datasets import cifar10\n",
        "\n",
        "from keras.models import Sequential\n",
        "from keras.layers import Conv2D, MaxPool2D, Flatten\n",
        "from keras.layers import Dropout, InputLayer, Dense\n"
      ]
    },
    {
      "cell_type": "code",
      "source": [
        "# 2번 셀\n",
        "\n",
        "# 하이퍼 파라미터\n",
        "MY_DROP = 0.1       # dropout에 사용\n",
        "MY_EPOCH = 20       # 반복 학습 수\n",
        "MY_BATCH = 500"
      ],
      "metadata": {
        "id": "VbZVN3AsFeFl"
      },
      "execution_count": null,
      "outputs": []
    },
    {
      "cell_type": "code",
      "source": [
        "# 3번 셀\n",
        "\n",
        "# 데이터 불러 오기\n",
        "(X_train, Y_train), (X_test, Y_test) = cifar10.load_data()\n",
        "\n",
        "# 샘플 출력\n",
        "#print(X_train[0])\n",
        "plt.imshow(X_train[0])\n",
        "print('라벨:', Y_train[0])\n",
        "\n",
        "# 모양 확인\n",
        "# 컬러 이미지는 3채널, 흑백 이미지는 1채널\n",
        "print('학습용 입력 데이터:', X_train.shape)\n",
        "print('학습용 출력 데이터:', Y_train.shape)\n",
        "print('평가용 입력 데이터:', X_test.shape)\n",
        "print('평가용 출력 데이터:', Y_test.shape)"
      ],
      "metadata": {
        "colab": {
          "base_uri": "https://localhost:8080/",
          "height": 355
        },
        "id": "yu-1k0_XFwVV",
        "outputId": "1414c929-126a-480d-998c-37ad33fae033"
      },
      "execution_count": null,
      "outputs": [
        {
          "output_type": "stream",
          "name": "stdout",
          "text": [
            "라벨: [6]\n",
            "학습용 입력 데이터: (50000, 32, 32, 3)\n",
            "학습용 출력 데이터: (50000, 1)\n",
            "평가용 입력 데이터: (10000, 32, 32, 3)\n",
            "평가용 출력 데이터: (10000, 1)\n"
          ]
        },
        {
          "output_type": "display_data",
          "data": {
            "image/png": "[encoded data removed]",
            "text/plain": [
              "<Figure size 432x288 with 1 Axes>"
            ]
          },
          "metadata": {
            "needs_background": "light"
          }
        }
      ]
    },
    {
      "cell_type": "code",
      "source": [
        "# 4번 셀\n",
        "\n",
        "# 데이터 추가 처리\n",
        "# 입력 데이터 [0, 1] 스케일링\n",
        "X_train = X_train / 255\n",
        "X_test = X_test / 255\n",
        "\n",
        "#print(X_train[0])\n",
        "#plt.imshow(X_train[0])\n",
        "\n",
        "# 출력 데이터 처리\n",
        "print('전:', Y_train[0])\n",
        "Y_train = to_categorical(Y_train, 10)\n",
        "print('후:', Y_train[0])\n",
        "Y_test = to_categorical(Y_test, 10)\n",
        "\n",
        "print('학습용 입력 데이터:', X_train.shape)\n",
        "print('학습용 출력 데이터:', Y_train.shape)\n",
        "print('평가용 입력 데이터:', X_test.shape)\n",
        "print('평가용 출력 데이터:', Y_test.shape)"
      ],
      "metadata": {
        "colab": {
          "base_uri": "https://localhost:8080/"
        },
        "id": "8rq8oaZ-k5a4",
        "outputId": "c7178832-3dfc-4c4d-f4c1-1b4ab0a86e49"
      },
      "execution_count": null,
      "outputs": [
        {
          "output_type": "stream",
          "name": "stdout",
          "text": [
            "전: [6]\n",
            "후: [0. 0. 0. 0. 0. 0. 1. 0. 0. 0.]\n",
            "학습용 입력 데이터: (50000, 32, 32, 3)\n",
            "학습용 출력 데이터: (50000, 10)\n",
            "평가용 입력 데이터: (10000, 32, 32, 3)\n",
            "평가용 출력 데이터: (10000, 10)\n"
          ]
        }
      ]
    },
    {
      "cell_type": "code",
      "source": [
        "# 5번 셀\n",
        "\n",
        "# CNN 구현\n",
        "model = Sequential()\n",
        "\n",
        "# 입력층\n",
        "model.add(InputLayer(input_shape=(32, 32, 3)))\n",
        "\n",
        "# 첫번째 합성곱 블럭\n",
        "model.add(Conv2D(filters=16,\n",
        "                 kernel_size=3,\n",
        "                 padding='same',\n",
        "                 activation='relu'))\n",
        "model.add(Dropout(MY_DROP))\n",
        "\n",
        "# 두번째 합성곱 블럭\n",
        "model.add(Conv2D(filters=32,\n",
        "                 kernel_size=3,\n",
        "                 padding='same',\n",
        "                 activation='relu'))\n",
        "model.add(MaxPool2D(pool_size=2))\n",
        "\n",
        "# 후반부 시작\n",
        "model.add(Flatten())\n",
        "model.add(Dropout(MY_DROP))\n",
        "\n",
        "# 첫번째 Dense 층\n",
        "model.add(Dense(units=128,\n",
        "                activation='relu'))\n",
        "model.add(Dropout(MY_DROP))\n",
        "\n",
        "# 출력층\n",
        "model.add(Dense(units=10,\n",
        "                activation='softmax'))\n",
        "\n",
        "model.summary()"
      ],
      "metadata": {
        "colab": {
          "base_uri": "https://localhost:8080/"
        },
        "id": "zTA9BFx-wtQq",
        "outputId": "217d37d9-a3cc-4592-8e99-ea4b75e32a38"
      },
      "execution_count": null,
      "outputs": [
        {
          "output_type": "stream",
          "name": "stdout",
          "text": [
            "Model: \"sequential\"\n",
            "_________________________________________________________________\n",
            " Layer (type)                Output Shape              Param #   \n",
            "=================================================================\n",
            " conv2d (Conv2D)             (None, 32, 32, 16)        1744      \n",
            "                                                                 \n",
            " dropout (Dropout)           (None, 32, 32, 16)        0         \n",
            "                                                                 \n",
            " conv2d_1 (Conv2D)           (None, 32, 32, 32)        18464     \n",
            "                                                                 \n",
            " max_pooling2d (MaxPooling2D  (None, 16, 16, 32)       0         \n",
            " )                                                               \n",
            "                                                                 \n",
            " flatten (Flatten)           (None, 8192)              0         \n",
            "                                                                 \n",
            " dropout_1 (Dropout)         (None, 8192)              0         \n",
            "                                                                 \n",
            " dense (Dense)               (None, 128)               1048704   \n",
            "                                                                 \n",
            " dropout_2 (Dropout)         (None, 128)               0         \n",
            "                                                                 \n",
            " dense_1 (Dense)             (None, 10)                1290      \n",
            "                                                                 \n",
            "=================================================================\n",
            "Total params: 1,070,202\n",
            "Trainable params: 1,070,202\n",
            "Non-trainable params: 0\n",
            "_________________________________________________________________\n"
          ]
        }
      ]
    },
    {
      "cell_type": "code",
      "source": [
        "# 6번 셀\n",
        "\n",
        "# CNN 학습\n",
        "model.compile(optimizer='adam',\n",
        "              loss='categorical_crossentropy',\n",
        "              metrics=['acc'])\n",
        "\n",
        "print('학습 시작')\n",
        "begin = time()\n",
        "\n",
        "model.fit(X_train,\n",
        "          Y_train,\n",
        "          epochs=MY_EPOCH,\n",
        "          batch_size=MY_BATCH,\n",
        "          verbose=1)\n",
        "\n",
        "end = time()\n",
        "print('총 학습 시간:', end - begin)\n"
      ],
      "metadata": {
        "colab": {
          "base_uri": "https://localhost:8080/"
        },
        "id": "UrgvyYBS53mY",
        "outputId": "cfd505e1-59ec-4836-addc-98d2e34bfb66"
      },
      "execution_count": null,
      "outputs": [
        {
          "output_type": "stream",
          "name": "stdout",
          "text": [
            "학습 시작\n",
            "Epoch 1/20\n",
            "100/100 [==============================] - 4s 24ms/step - loss: 1.8068 - acc: 0.3436\n",
            "Epoch 2/20\n",
            "100/100 [==============================] - 2s 24ms/step - loss: 1.4161 - acc: 0.4937\n",
            "Epoch 3/20\n",
            "100/100 [==============================] - 2s 24ms/step - loss: 1.2680 - acc: 0.5521\n",
            "Epoch 4/20\n",
            "100/100 [==============================] - 2s 24ms/step - loss: 1.1640 - acc: 0.5899\n",
            "Epoch 5/20\n",
            "100/100 [==============================] - 2s 24ms/step - loss: 1.0950 - acc: 0.6150\n",
            "Epoch 6/20\n",
            "100/100 [==============================] - 2s 23ms/step - loss: 1.0213 - acc: 0.6435\n",
            "Epoch 7/20\n",
            "100/100 [==============================] - 2s 24ms/step - loss: 0.9789 - acc: 0.6538\n",
            "Epoch 8/20\n",
            "100/100 [==============================] - 2s 23ms/step - loss: 0.9344 - acc: 0.6695\n",
            "Epoch 9/20\n",
            "100/100 [==============================] - 2s 24ms/step - loss: 0.8890 - acc: 0.6877\n",
            "Epoch 10/20\n",
            "100/100 [==============================] - 2s 24ms/step - loss: 0.8606 - acc: 0.6967\n",
            "Epoch 11/20\n",
            "100/100 [==============================] - 2s 24ms/step - loss: 0.8279 - acc: 0.7080\n",
            "Epoch 12/20\n",
            "100/100 [==============================] - 2s 24ms/step - loss: 0.7943 - acc: 0.7202\n",
            "Epoch 13/20\n",
            "100/100 [==============================] - 2s 24ms/step - loss: 0.7589 - acc: 0.7338\n",
            "Epoch 14/20\n",
            "100/100 [==============================] - 2s 23ms/step - loss: 0.7318 - acc: 0.7430\n",
            "Epoch 15/20\n",
            "100/100 [==============================] - 2s 24ms/step - loss: 0.7073 - acc: 0.7503\n",
            "Epoch 16/20\n",
            "100/100 [==============================] - 2s 24ms/step - loss: 0.6810 - acc: 0.7610\n",
            "Epoch 17/20\n",
            "100/100 [==============================] - 2s 23ms/step - loss: 0.6599 - acc: 0.7651\n",
            "Epoch 18/20\n",
            "100/100 [==============================] - 2s 24ms/step - loss: 0.6404 - acc: 0.7739\n",
            "Epoch 19/20\n",
            "100/100 [==============================] - 2s 24ms/step - loss: 0.6068 - acc: 0.7854\n",
            "Epoch 20/20\n",
            "100/100 [==============================] - 2s 24ms/step - loss: 0.5909 - acc: 0.7898\n",
            "총 학습 시간: 83.5770947933197\n"
          ]
        }
      ]
    },
    {
      "cell_type": "code",
      "source": [
        "# 7번 셀\n",
        "\n",
        "# CNN 평가\n",
        "score = model.evaluate(X_test,\n",
        "                       Y_test)\n",
        "\n",
        "print('최종 정확도:', score[1])\n"
      ],
      "metadata": {
        "colab": {
          "base_uri": "https://localhost:8080/"
        },
        "id": "RKJLrAug70H4",
        "outputId": "feffc4fe-a952-4566-90ba-77d18c40995f"
      },
      "execution_count": null,
      "outputs": [
        {
          "output_type": "stream",
          "name": "stdout",
          "text": [
            "313/313 [==============================] - 1s 4ms/step - loss: 0.9952 - acc: 0.6805\n",
            "최종 정확도: 0.6804999709129333\n"
          ]
        }
      ]
    },
    {
      "cell_type": "code",
      "source": [
        "# 8번 셀\n",
        "\n",
        "# CNN 예측\n",
        "pred = model.predict(X_test)\n",
        "\n",
        "print('평가용 이미지 0번의 예측:', pred[0])\n",
        "print('평가용 이미지 0번의 정답:', Y_test[0])\n",
        "plt.imshow(X_test[0])\n"
      ],
      "metadata": {
        "colab": {
          "base_uri": "https://localhost:8080/",
          "height": 337
        },
        "id": "kFFoeVqSbNmH",
        "outputId": "466a911a-2518-4a13-a45c-86cc4ba35426"
      },
      "execution_count": null,
      "outputs": [
        {
          "output_type": "stream",
          "name": "stdout",
          "text": [
            "평가용 이미지 0번의 예측: [9.9861925e-04 5.4454088e-04 7.1777363e-04 8.4394819e-01 8.7721244e-04\n",
            " 1.5123276e-01 5.8039284e-05 1.1876032e-04 1.0169279e-03 4.8710164e-04]\n",
            "평가용 이미지 0번의 정답: [0. 0. 0. 1. 0. 0. 0. 0. 0. 0.]\n"
          ]
        },
        {
          "output_type": "execute_result",
          "data": {
            "text/plain": [
              "<matplotlib.image.AxesImage at 0x7f434b790350>"
            ]
          },
          "metadata": {},
          "execution_count": 8
        },
        {
          "output_type": "display_data",
          "data": {
            "image/png": "[encoded data removed]",
            "text/plain": [
              "<Figure size 432x288 with 1 Axes>"
            ]
          },
          "metadata": {
            "needs_background": "light"
          }
        }
      ]
    }
  ]
}