{
  "nbformat": 4,
  "nbformat_minor": 0,
  "metadata": {
    "colab": {
      "name": "2_패션.ipynb",
      "provenance": [],
      "collapsed_sections": [],
      "include_colab_link": true
    },
    "kernelspec": {
      "name": "python3",
      "display_name": "Python 3"
    },
    "language_info": {
      "name": "python"
    },
    "accelerator": "GPU"
  },
  "cells": [
    {
      "cell_type": "markdown",
      "metadata": {
        "id": "view-in-github",
        "colab_type": "text"
      },
      "source": [
        "<a href=\"https://colab.research.google.com/github/ahnnoah/study/blob/main/Colab/2022/2_%ED%8C%A8%EC%85%98.ipynb\" target=\"_parent\"><img src=\"https://colab.research.google.com/assets/colab-badge.svg\" alt=\"Open In Colab\"/></a>"
      ]
    },
    {
      "cell_type": "markdown",
      "source": [
        "CNN으로 패션아이템 구분하기\n",
        "2022년 1월 6일\n",
        "안노아"
      ],
      "metadata": {
        "id": "fJcn6UITb8uD"
      }
    },
    {
      "cell_type": "code",
      "execution_count": null,
      "metadata": {
        "id": "wOSd5Sxdb0g9"
      },
      "outputs": [],
      "source": [
        "# 1번 셀\n",
        "\n",
        "# 패키지 수입\n",
        "import matplotlib.pyplot as plt\n",
        "import numpy as np\n",
        "from time import time\n",
        "\n",
        "from keras.datasets import fashion_mnist\n",
        "from keras.models import Sequential\n",
        "from keras.utils import np_utils\n",
        "\n",
        "from keras.layers import Dense\n",
        "from keras.layers import Flatten, Conv2D, MaxPool2D\n",
        "from keras.layers import InputLayer\n"
      ]
    },
    {
      "cell_type": "code",
      "source": [
        "# 2번 셀\n",
        "\n",
        "# 하이퍼 파라미터\n",
        "MY_EPOCH = 10        # 반복 학습 수\n",
        "MY_BATCH = 500       # 매번 가져와서 계산하는 학습용 데이터 수\n"
      ],
      "metadata": {
        "id": "V8asyLsDdLG0"
      },
      "execution_count": null,
      "outputs": []
    },
    {
      "cell_type": "code",
      "source": [
        "# 3번 셀\n",
        "\n",
        "# 데이터 불러 오기\n",
        "(X_train, Y_train), (X_test, Y_test) = fashion_mnist.load_data()\n",
        "\n",
        "print('학습용 입력 데이터 모양:', X_train.shape)\n",
        "print('학습용 출력 데이터 모양:', Y_train.shape)\n",
        "print('평가용 입력 데이터 모양:', X_test.shape)\n",
        "print('평가용 출력 데이터 모양:', Y_test.shape)\n",
        "\n",
        "# 수치 데이터는 8-bit 화소 정수 [0, 255]\n",
        "#print(X_train[0])\n",
        "print(X_train[0].shape)\n",
        "plt.imshow(X_train[0], cmap='gray')\n",
        "print('0번 학습용 이미지 라벨:', Y_train[0])\n"
      ],
      "metadata": {
        "colab": {
          "base_uri": "https://localhost:8080/",
          "height": 372
        },
        "id": "xQ3Nv8iEe0iw",
        "outputId": "0b637b4e-fdfc-4241-daca-8a48155c2808"
      },
      "execution_count": null,
      "outputs": [
        {
          "output_type": "stream",
          "name": "stdout",
          "text": [
            "학습용 입력 데이터 모양: (60000, 28, 28)\n",
            "학습용 출력 데이터 모양: (60000,)\n",
            "평가용 입력 데이터 모양: (10000, 28, 28)\n",
            "평가용 출력 데이터 모양: (10000,)\n",
            "(28, 28)\n",
            "0번 학습용 이미지 라벨: 9\n"
          ]
        },
        {
          "output_type": "display_data",
          "data": {
            "image/png": "[encoded data removed]",
            "text/plain": [
              "<Figure size 432x288 with 1 Axes>"
            ]
          },
          "metadata": {
            "needs_background": "light"
          }
        }
      ]
    },
    {
      "cell_type": "code",
      "source": [
        "# 4번 셀\n",
        "\n",
        "# 입력 데이터 추가 처리\n",
        "# 화소 데이터 [0, 1] 스케일링\n",
        "X_train = X_train / 255\n",
        "#print(X_train[0])\n",
        "#plt.imshow(X_train[0], cmap='gray')\n",
        "X_test = X_test / 255\n",
        "\n",
        "# 이미지 채널 정보 추가\n",
        "# keras convolution (합성곱) 함수가 원해서\n",
        "print('전:', X_train.shape)\n",
        "X_train = np.expand_dims(X_train, axis=3)\n",
        "print('후:', X_train.shape)\n",
        "X_test = np.expand_dims(X_test, axis=3)\n",
        "print('후:', X_test.shape)\n"
      ],
      "metadata": {
        "colab": {
          "base_uri": "https://localhost:8080/"
        },
        "id": "gpWhj6kIG357",
        "outputId": "e1f524b2-13d4-4a88-a0a1-b85d87a93d97"
      },
      "execution_count": null,
      "outputs": [
        {
          "output_type": "stream",
          "name": "stdout",
          "text": [
            "전: (60000, 28, 28)\n",
            "후: (60000, 28, 28, 1)\n",
            "후: (10000, 28, 28, 1)\n"
          ]
        }
      ]
    },
    {
      "cell_type": "code",
      "source": [
        "# 5번 셀\n",
        "\n",
        "# 출력 데이터 (= 라벨) 추가 처리\n",
        "print('전:', Y_train[0])\n",
        "Y_train = np_utils.to_categorical(Y_train, 10)\n",
        "print('후:', Y_train[0])\n",
        "Y_test = np_utils.to_categorical(Y_test, 10)\n"
      ],
      "metadata": {
        "colab": {
          "base_uri": "https://localhost:8080/"
        },
        "id": "HrvmO-UpKMZo",
        "outputId": "636246f8-715d-4b8c-c18b-b33efaebe895"
      },
      "execution_count": null,
      "outputs": [
        {
          "output_type": "stream",
          "name": "stdout",
          "text": [
            "전: 9\n",
            "후: [0. 0. 0. 0. 0. 0. 0. 0. 0. 1.]\n"
          ]
        }
      ]
    },
    {
      "cell_type": "code",
      "source": [
        "# 6번 셀\n",
        "\n",
        "# 최종 데이터 모양 확인\n",
        "print('학습용 입력 데이터 모양:', X_train.shape)\n",
        "print('학습용 출력 데이터 모양:', Y_train.shape)\n",
        "print('평가용 입력 데이터 모양:', X_test.shape)\n",
        "print('평가용 출력 데이터 모양:', Y_test.shape)\n"
      ],
      "metadata": {
        "colab": {
          "base_uri": "https://localhost:8080/"
        },
        "id": "A0c4r25SLtHh",
        "outputId": "f4b3430c-fded-4f21-efe3-8564eb83e96a"
      },
      "execution_count": null,
      "outputs": [
        {
          "output_type": "stream",
          "name": "stdout",
          "text": [
            "학습용 입력 데이터 모양: (60000, 28, 28, 1)\n",
            "학습용 출력 데이터 모양: (60000, 10)\n",
            "평가용 입력 데이터 모양: (10000, 28, 28, 1)\n",
            "평가용 출력 데이터 모양: (10000, 10)\n"
          ]
        }
      ]
    },
    {
      "cell_type": "code",
      "source": [
        "# 7번 셀\n",
        "\n",
        "# 인공 신경망 구현: CNN\n",
        "model = Sequential()\n",
        "model.add(InputLayer(input_shape=(28, 28, 1)))\n",
        "\n",
        "# 첫번째 합성곱 블럭 추가\n",
        "model.add(Conv2D(filters=32,\n",
        "                 kernel_size=2,\n",
        "                 padding='same',\n",
        "                 activation='relu'))\n",
        "model.add(MaxPool2D(pool_size=2))\n",
        "\n",
        "# 두번째 합성곱 블럭 추가\n",
        "model.add(Conv2D(filters=64,\n",
        "                 kernel_size=2,\n",
        "                 padding='same',\n",
        "                 activation='relu'))\n",
        "model.add(MaxPool2D(pool_size=2))\n",
        "\n",
        "# 화소를 뉴런으로 전환\n",
        "model.add(Flatten())\n",
        "\n",
        "# 첫번째 은닉층\n",
        "model.add(Dense(units=128,\n",
        "                activation='relu'))\n",
        "\n",
        "# 출력층\n",
        "model.add(Dense(units=10,\n",
        "                activation='softmax'))\n",
        "\n",
        "# CNN 요약\n",
        "model.summary()\n"
      ],
      "metadata": {
        "colab": {
          "base_uri": "https://localhost:8080/"
        },
        "id": "x353URIOMg-O",
        "outputId": "242bdc00-6c83-4d7a-ba7b-102a427504eb"
      },
      "execution_count": null,
      "outputs": [
        {
          "output_type": "stream",
          "name": "stdout",
          "text": [
            "Model: \"sequential\"\n",
            "_________________________________________________________________\n",
            " Layer (type)                Output Shape              Param #   \n",
            "=================================================================\n",
            " conv2d (Conv2D)             (None, 28, 28, 32)        160       \n",
            "                                                                 \n",
            " max_pooling2d (MaxPooling2D  (None, 14, 14, 32)       0         \n",
            " )                                                               \n",
            "                                                                 \n",
            " conv2d_1 (Conv2D)           (None, 14, 14, 64)        8256      \n",
            "                                                                 \n",
            " max_pooling2d_1 (MaxPooling  (None, 7, 7, 64)         0         \n",
            " 2D)                                                             \n",
            "                                                                 \n",
            " flatten (Flatten)           (None, 3136)              0         \n",
            "                                                                 \n",
            " dense (Dense)               (None, 128)               401536    \n",
            "                                                                 \n",
            " dense_1 (Dense)             (None, 10)                1290      \n",
            "                                                                 \n",
            "=================================================================\n",
            "Total params: 411,242\n",
            "Trainable params: 411,242\n",
            "Non-trainable params: 0\n",
            "_________________________________________________________________\n"
          ]
        }
      ]
    },
    {
      "cell_type": "code",
      "source": [
        "# 8번 셀\n",
        "\n",
        "# CNN 학습\n",
        "# 1. 학습 환경 설정\n",
        "model.compile(optimizer='adam',\n",
        "              loss='categorical_crossentropy',\n",
        "              metrics=['acc'])\n",
        "\n",
        "# 2. 반복 학습 진행\n",
        "print('학습 시작')\n",
        "begin = time()\n",
        "\n",
        "model.fit(X_train,\n",
        "          Y_train,\n",
        "          epochs=MY_EPOCH,\n",
        "          batch_size=MY_BATCH,\n",
        "          verbose=1)\n",
        "\n",
        "end = time()\n",
        "print('총 학습 시간:', end-begin)\n"
      ],
      "metadata": {
        "colab": {
          "base_uri": "https://localhost:8080/"
        },
        "id": "Gj8J-HUZ4gxg",
        "outputId": "1200d9f3-df66-4b0b-8d0a-d2e1337b1874"
      },
      "execution_count": null,
      "outputs": [
        {
          "output_type": "stream",
          "name": "stdout",
          "text": [
            "학습 시작\n",
            "Epoch 1/10\n",
            "120/120 [==============================] - 3s 9ms/step - loss: 0.6806 - acc: 0.7711\n",
            "Epoch 2/10\n",
            "120/120 [==============================] - 1s 8ms/step - loss: 0.3945 - acc: 0.8603\n",
            "Epoch 3/10\n",
            "120/120 [==============================] - 1s 8ms/step - loss: 0.3430 - acc: 0.8784\n",
            "Epoch 4/10\n",
            "120/120 [==============================] - 1s 8ms/step - loss: 0.3101 - acc: 0.8905\n",
            "Epoch 5/10\n",
            "120/120 [==============================] - 1s 8ms/step - loss: 0.2907 - acc: 0.8972\n",
            "Epoch 6/10\n",
            "120/120 [==============================] - 1s 8ms/step - loss: 0.2752 - acc: 0.9015\n",
            "Epoch 7/10\n",
            "120/120 [==============================] - 1s 8ms/step - loss: 0.2613 - acc: 0.9064\n",
            "Epoch 8/10\n",
            "120/120 [==============================] - 1s 8ms/step - loss: 0.2491 - acc: 0.9115\n",
            "Epoch 9/10\n",
            "120/120 [==============================] - 1s 8ms/step - loss: 0.2413 - acc: 0.9123\n",
            "Epoch 10/10\n",
            "120/120 [==============================] - 1s 8ms/step - loss: 0.2281 - acc: 0.9181\n",
            "총 학습 시간: 21.15742826461792\n"
          ]
        }
      ]
    },
    {
      "cell_type": "code",
      "source": [
        "# 9번 셀\n",
        "\n",
        "# CNN 평가\n",
        "score = model.evaluate(X_test,\n",
        "                       Y_test)\n",
        "\n",
        "print('최종 정확도:', score[1])\n"
      ],
      "metadata": {
        "colab": {
          "base_uri": "https://localhost:8080/"
        },
        "id": "WrTDxoH67gGw",
        "outputId": "1d38275b-8936-4e12-c869-89589d3140d9"
      },
      "execution_count": null,
      "outputs": [
        {
          "output_type": "stream",
          "name": "stdout",
          "text": [
            "313/313 [==============================] - 1s 3ms/step - loss: 0.2688 - acc: 0.9031\n",
            "최종 정확도: 0.9031000137329102\n"
          ]
        }
      ]
    },
    {
      "cell_type": "code",
      "source": [
        "# 10번 셀\n",
        "\n",
        "# 샘플 결과 출력\n",
        "print(X_test[0].shape)\n",
        "\n",
        "# imshow 함수는 채널 정보를 제거해야 함\n",
        "# (28, 28, 1) -> (28, 28)\n",
        "#img = np.squeeze(X_test[0])\n",
        "img = X_test[0].squeeze()\n",
        "print(img.shape)\n",
        "plt.imshow(img)\n",
        "print('라벨:', Y_test[0])\n",
        "\n",
        "# CNN 예측\n",
        "pred = model.predict(X_test)\n",
        "print('CNN 예측:', np.argmax(pred[0]))\n",
        "\n"
      ],
      "metadata": {
        "colab": {
          "base_uri": "https://localhost:8080/",
          "height": 336
        },
        "id": "o0SdDYsZ8UDU",
        "outputId": "24fbccb2-6271-443d-b9d5-67f64f00de16"
      },
      "execution_count": null,
      "outputs": [
        {
          "output_type": "stream",
          "name": "stdout",
          "text": [
            "(28, 28, 1)\n",
            "(28, 28)\n",
            "라벨: [0. 0. 0. 0. 0. 0. 0. 0. 0. 1.]\n",
            "CNN 예측: 9\n"
          ]
        },
        {
          "output_type": "display_data",
          "data": {
            "image/png": "[encoded data removed]",
            "text/plain": [
              "<Figure size 432x288 with 1 Axes>"
            ]
          },
          "metadata": {
            "needs_background": "light"
          }
        }
      ]
    }
  ]
}